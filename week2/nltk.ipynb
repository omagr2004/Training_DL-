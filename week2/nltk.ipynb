{
 "cells": [
  {
   "cell_type": "markdown",
   "metadata": {},
   "source": [
    "# NLP"
   ]
  },
  {
   "cell_type": "markdown",
   "metadata": {},
   "source": [
    "### NLTK"
   ]
  },
  {
   "cell_type": "code",
   "execution_count": 2,
   "metadata": {},
   "outputs": [],
   "source": [
    "from nltk.tokenize import word_tokenize,sent_tokenize\n",
    "data=\"\"\n",
    "data = \"Natural language processing (NLP) is a field of artificial intelligence that focuses on the interaction between computers and humans through natural language. It involves the ability of a computer to understand, interpret, and generate human language in a valuable and meaningful way. NLP techniques are used in various applications such as machine translation, sentiment analysis, text classification, and information extraction.\"\n",
    "\n"
   ]
  },
  {
   "cell_type": "code",
   "execution_count": 3,
   "metadata": {},
   "outputs": [
    {
     "name": "stdout",
     "output_type": "stream",
     "text": [
      "['Natural', 'language', 'processing', '(', 'NLP', ')', 'is', 'a', 'field', 'of', 'artificial', 'intelligence', 'that', 'focuses', 'on', 'the', 'interaction', 'between', 'computers', 'and', 'humans', 'through', 'natural', 'language', '.', 'It', 'involves', 'the', 'ability', 'of', 'a', 'computer', 'to', 'understand', ',', 'interpret', ',', 'and', 'generate', 'human', 'language', 'in', 'a', 'valuable', 'and', 'meaningful', 'way', '.', 'NLP', 'techniques', 'are', 'used', 'in', 'various', 'applications', 'such', 'as', 'machine', 'translation', ',', 'sentiment', 'analysis', ',', 'text', 'classification', ',', 'and', 'information', 'extraction', '.']\n",
      "\n",
      "\n",
      "\n"
     ]
    },
    {
     "name": "stderr",
     "output_type": "stream",
     "text": [
      "[nltk_data] Downloading package averaged_perceptron_tagger to\n",
      "[nltk_data]     C:\\Users\\rahul\\AppData\\Roaming\\nltk_data...\n",
      "[nltk_data]   Package averaged_perceptron_tagger is already up-to-\n",
      "[nltk_data]       date!\n",
      "[nltk_data] Downloading package punkt to\n",
      "[nltk_data]     C:\\Users\\rahul\\AppData\\Roaming\\nltk_data...\n",
      "[nltk_data]   Package punkt is already up-to-date!\n"
     ]
    }
   ],
   "source": [
    "import nltk\n",
    "percept= nltk.download(\"averaged_perceptron_tagger\")\n",
    "punket=nltk.download('punkt')\n",
    "w=word_tokenize(data)\n",
    "print(w)\n",
    "print(\"\\n\\n\")\n"
   ]
  },
  {
   "cell_type": "code",
   "execution_count": 4,
   "metadata": {},
   "outputs": [
    {
     "name": "stdout",
     "output_type": "stream",
     "text": [
      "\n",
      "\n",
      "\n",
      "['Natural language processing (NLP) is a field of artificial intelligence that focuses on the interaction between computers and humans through natural language.', 'It involves the ability of a computer to understand, interpret, and generate human language in a valuable and meaningful way.', 'NLP techniques are used in various applications such as machine translation, sentiment analysis, text classification, and information extraction.']\n",
      "\n",
      "\n",
      "Natural language processing (NLP) is a field of artificial intelligence that focuses on the interaction between computers and humans through natural language.\n",
      "\n",
      "\n",
      "It involves the ability of a computer to understand, interpret, and generate human language in a valuable and meaningful way.\n",
      "\n",
      "\n",
      "NLP techniques are used in various applications such as machine translation, sentiment analysis, text classification, and information extraction.\n"
     ]
    }
   ],
   "source": [
    "from nltk import pos_tag\n",
    "pos=pos_tag(w)\n",
    "\n",
    "print(\"\\n\\n\")\n",
    "sent=sent_tokenize(data)\n",
    "print(sent)\n",
    "for i in sent:\n",
    "    print(\"\\n\")\n",
    "    print(i)\n"
   ]
  },
  {
   "cell_type": "code",
   "execution_count": 5,
   "metadata": {},
   "outputs": [
    {
     "name": "stderr",
     "output_type": "stream",
     "text": [
      "[nltk_data] Downloading package wordnet to\n",
      "[nltk_data]     C:\\Users\\rahul\\AppData\\Roaming\\nltk_data...\n"
     ]
    },
    {
     "name": "stdout",
     "output_type": "stream",
     "text": [
      "True\n",
      "mice:: mouse\n"
     ]
    }
   ],
   "source": [
    "\n",
    "from nltk.stem import WordNetLemmatizer\n",
    "wordnet=nltk.download('wordnet')\n",
    "print(wordnet)\n",
    "wordlem=WordNetLemmatizer()\n",
    "lem=wordlem.lemmatize(\"mice\")\n",
    "print(\"mice::\",lem)"
   ]
  }
 ],
 "metadata": {
  "kernelspec": {
   "display_name": "Python 3",
   "language": "python",
   "name": "python3"
  },
  "language_info": {
   "codemirror_mode": {
    "name": "ipython",
    "version": 3
   },
   "file_extension": ".py",
   "mimetype": "text/x-python",
   "name": "python",
   "nbconvert_exporter": "python",
   "pygments_lexer": "ipython3",
   "version": "3.12.2"
  }
 },
 "nbformat": 4,
 "nbformat_minor": 2
}
